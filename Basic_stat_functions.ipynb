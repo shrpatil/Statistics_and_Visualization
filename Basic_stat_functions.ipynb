{
 "cells": [
  {
   "cell_type": "markdown",
   "id": "fa415030",
   "metadata": {},
   "source": [
    "\n",
    "**Prompt an user to enter 10 integers. If the user enters anything other than integers, remind the user that only integers are allowed and let them retry. Note: You need to detect if the user makes a mistake and let the user retry without exiting the program. The previously entered valid inputs should be kept and not lost. Don't allow the user to enter more than 10 or less than 10 integers. Display the 10 integers back to the user at the end. Calculate the following statistics from the 10 integers entered and display the results back to the user: Minimum, Maximum, Range, and Average**"
   ]
  },
  {
   "cell_type": "code",
   "execution_count": 1,
   "id": "1ed0d76b",
   "metadata": {
    "scrolled": true
   },
   "outputs": [
    {
     "name": "stdout",
     "output_type": "stream",
     "text": [
      "Enter integer:4\n",
      "Enter integer:-2\n",
      "Enter integer:6\n",
      "Enter integer:7.8\n",
      "Oops.. incorrect input! Please enter interger numbers only.\n",
      "Enter integer:4\n",
      "Enter integer:6\n",
      "Enter integer:7\n",
      "Enter integer:8\n",
      "Enter integer:9\n",
      "Enter integer:6\n",
      "Enter integer:\n",
      "Oops.. incorrect input! Please enter interger numbers only.\n",
      "Enter integer:5\n",
      "Here is your list: [4, -2, 6, 4, 6, 7, 8, 9, 6, 5]\n"
     ]
    }
   ],
   "source": [
    "# build my list of integer numbers\n",
    "l = 1\n",
    "mylist = []\n",
    "while l < 11:\n",
    "    try:\n",
    "        a = int(input(\"Enter integer:\"))\n",
    "    except ValueError:\n",
    "        print(\"Oops.. incorrect input! Please enter interger numbers only.\")\n",
    "        continue\n",
    "    mylist.append(a)\n",
    "    l += 1\n",
    "print(\"Here is your list:\", mylist)"
   ]
  },
  {
   "cell_type": "markdown",
   "id": "8b78e437",
   "metadata": {},
   "source": [
    "# Functions to calculate the statistics"
   ]
  },
  {
   "cell_type": "code",
   "execution_count": 2,
   "id": "0fc6e1a1",
   "metadata": {},
   "outputs": [],
   "source": [
    "# Get the minimum number from the list\n",
    "def calc_min(mylist):\n",
    "    m = mylist[0]\n",
    "    for i in mylist:\n",
    "        if i < m:\n",
    "            m = i\n",
    "    return m\n",
    "\n",
    "# Get the maximum number from the list\n",
    "def calc_max(mylist):\n",
    "    m = mylist[0]\n",
    "    for i in mylist:\n",
    "        if i > m:\n",
    "            m = i\n",
    "    return m\n",
    "\n",
    "# Get the range of given list\n",
    "def calc_range(mylist):\n",
    "    mmax = calc_max(mylist)\n",
    "    mmin = calc_min(mylist)\n",
    "    return (mmin,mmax)\n",
    "\n",
    "# Get the average of list\n",
    "def calc_avg(mylist):\n",
    "    s = 0\n",
    "    for i in mylist[1:]:\n",
    "        s += i\n",
    "    avg = s/len(mylist)\n",
    "    return avg"
   ]
  },
  {
   "cell_type": "code",
   "execution_count": 3,
   "id": "bcad196d",
   "metadata": {},
   "outputs": [
    {
     "name": "stdout",
     "output_type": "stream",
     "text": [
      "Statistics of my list of integers: \n",
      "Minimum = -2\n",
      "Maximum = 9\n",
      "Range = (-2, 9)\n",
      "Average = 4.9\n"
     ]
    }
   ],
   "source": [
    "# Calculate statistics of list\n",
    "\n",
    "my_min = calc_min(mylist)\n",
    "my_max = calc_max(mylist)\n",
    "my_range = calc_range(mylist)\n",
    "my_avg = calc_avg(mylist)\n",
    "\n",
    "print(\"Statistics of my list of integers: \")\n",
    "print(\"Minimum =\", my_min)\n",
    "print(\"Maximum =\", my_max)\n",
    "print(\"Range =\", my_range)\n",
    "print(\"Average =\", my_avg)"
   ]
  }
 ],
 "metadata": {
  "kernelspec": {
   "display_name": "Python 3 (ipykernel)",
   "language": "python",
   "name": "python3"
  },
  "language_info": {
   "codemirror_mode": {
    "name": "ipython",
    "version": 3
   },
   "file_extension": ".py",
   "mimetype": "text/x-python",
   "name": "python",
   "nbconvert_exporter": "python",
   "pygments_lexer": "ipython3",
   "version": "3.8.10"
  }
 },
 "nbformat": 4,
 "nbformat_minor": 5
}
